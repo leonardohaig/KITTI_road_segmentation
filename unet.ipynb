{
 "cells": [
  {
   "cell_type": "code",
   "execution_count": 1,
   "metadata": {
    "_cell_guid": "b9a279d5-e493-4c61-bbc4-c7cfa0092bb0",
    "_uuid": "c3210d17b42eb27e71cff461685c1f9ce86aa790",
    "collapsed": false
   },
   "outputs": [
    {
     "name": "stderr",
     "output_type": "stream",
     "text": [
      "Using TensorFlow backend.\n"
     ]
    }
   ],
   "source": [
    "import numpy as np\n",
    "import pandas as pd\n",
    "\n",
    "from keras.models import Model\n",
    "from keras.layers import Dense, Conv2D, Input, MaxPool2D, UpSampling2D, Concatenate, Conv2DTranspose\n",
    "import tensorflow as tf\n",
    "from keras.optimizers import Adam\n",
    "from scipy.misc import imresize\n",
    "from scipy.misc import imsave\n",
    "import imageio\n",
    "from tqdm import tqdm\n",
    "import os\n",
    "from keras.preprocessing.image import array_to_img, img_to_array, load_img, ImageDataGenerator\n",
    "from keras.callbacks import EarlyStopping, ModelCheckpoint\n",
    "from keras import optimizers\n",
    "\n",
    "import re\n",
    "import random\n",
    "from PIL import Image\n",
    "\n",
    "import warnings\n",
    "warnings.filterwarnings('ignore')"
   ]
  },
  {
   "cell_type": "markdown",
   "metadata": {
    "collapsed": false
   },
   "source": [
    "###### Set the random seed"
   ]
  },
  {
   "cell_type": "code",
   "execution_count": 2,
   "metadata": {
    "collapsed": true
   },
   "outputs": [],
   "source": [
    "random.seed(100)\n",
    "np.random.seed(100)"
   ]
  },
  {
   "cell_type": "markdown",
   "metadata": {},
   "source": [
    "###### Define the train image and mask directory"
   ]
  },
  {
   "cell_type": "code",
   "execution_count": 3,
   "metadata": {
    "collapsed": true
   },
   "outputs": [],
   "source": [
    "image_data_folder = '../data_road/training/image_2/'\n",
    "mask_data_folder = '../data_road/training/gt_image_2/'"
   ]
  },
  {
   "cell_type": "markdown",
   "metadata": {},
   "source": [
    "###### List of training images and their masks"
   ]
  },
  {
   "cell_type": "code",
   "execution_count": 4,
   "metadata": {
    "collapsed": true
   },
   "outputs": [],
   "source": [
    "all_images = os.listdir(image_data_folder)\n",
    "all_images.sort()\n",
    "all_images = np.array(all_images)\n",
    "\n",
    "all_mask_images = {}\n",
    "for image_file in all_images:\n",
    "    all_mask_images[image_file] = re.sub('_', '_road_',image_file)"
   ]
  },
  {
   "cell_type": "markdown",
   "metadata": {
    "_uuid": "a11c6e3d97e22a77ace6862cb3001faa14405cc2",
    "collapsed": false
   },
   "source": [
    "###### Read test images"
   ]
  },
  {
   "cell_type": "code",
   "execution_count": 5,
   "metadata": {
    "collapsed": true
   },
   "outputs": [],
   "source": [
    "test_dir = \"../data_road/testing/image_2/\"\n",
    "test_images = os.listdir(test_dir)\n",
    "test_images.sort()\n",
    "test_images = np.array(test_images)"
   ]
  },
  {
   "cell_type": "markdown",
   "metadata": {},
   "source": [
    "###### Directory where predictions are written"
   ]
  },
  {
   "cell_type": "code",
   "execution_count": 6,
   "metadata": {
    "collapsed": true
   },
   "outputs": [],
   "source": [
    "test_predict_dir = 'test_predict/'"
   ]
  },
  {
   "cell_type": "markdown",
   "metadata": {},
   "source": [
    "###### Image size and batch size"
   ]
  },
  {
   "cell_type": "code",
   "execution_count": 7,
   "metadata": {
    "collapsed": true
   },
   "outputs": [],
   "source": [
    "width = 1280\n",
    "height = 384\n",
    "batch_size = 2"
   ]
  },
  {
   "cell_type": "markdown",
   "metadata": {
    "collapsed": false
   },
   "source": [
    "###### Split data for training and validation"
   ]
  },
  {
   "cell_type": "code",
   "execution_count": 8,
   "metadata": {
    "collapsed": true
   },
   "outputs": [],
   "source": [
    "train_images = all_images[:232]\n",
    "valid_images = all_images[232:]\n",
    "\n",
    "steps_per_epoch = (train_images.shape[0])/batch_size\n",
    "validation_steps = valid_images.shape[0]/batch_size"
   ]
  },
  {
   "cell_type": "markdown",
   "metadata": {
    "_uuid": "a9f6ed3fcd25fa7878fe353db5ce904cfd1723ea",
    "collapsed": false
   },
   "source": [
    "###### Batch generator used in fit_generator "
   ]
  },
  {
   "cell_type": "code",
   "execution_count": 9,
   "metadata": {
    "collapsed": true
   },
   "outputs": [],
   "source": [
    "def batch_generator(images, batch_size):\n",
    "        \"\"\"\n",
    "        data_dir: where the actual images are kept\n",
    "        mask_dir: where the actual masks are kept\n",
    "        images: the filenames of the images we want to generate batches from\n",
    "        batch_size: self explanatory\n",
    "        dims: the dimensions in which we want to rescale our images\n",
    "        \"\"\"\n",
    "        while True:\n",
    "            ix = np.random.choice(np.arange(images.shape[0]), batch_size)\n",
    "            batch_features = np.zeros((batch_size, height, width,3), dtype='float32')\n",
    "            batch_labels = np.zeros((batch_size, height, width, 1), dtype='float32')\n",
    "\n",
    "            index = 0\n",
    "            for i in ix:\n",
    "                if ( np.random.uniform(0,1)>5):\n",
    "                    flip = 1\n",
    "                else:\n",
    "                    flip = 0\n",
    "                # images\n",
    "                original_img = load_img(image_data_folder + images[i])\n",
    "                resized_img = imresize(original_img, [height, width, 3])                \n",
    "                img_array = img_to_array(resized_img)/255.\n",
    "                \n",
    "                batch_features[index,:,:,:] = img_array\n",
    "                \n",
    "                # masks\n",
    "                original_mask = load_img(mask_data_folder + all_mask_images[images[i]])\n",
    "                resized_mask = imresize(original_mask, [height, width, 3])\n",
    "                label = img_to_array(resized_mask)/255.\n",
    "                batch_labels[index,:,:,0] = label[:,:,2]\n",
    "                    \n",
    "                index = index + 1\n",
    "                                \n",
    "            yield batch_features, batch_labels"
   ]
  },
  {
   "cell_type": "markdown",
   "metadata": {
    "_uuid": "526842f3fcdf31f4aae71eaadd8921988d9df1fa"
   },
   "source": [
    "###### Define downscaling and upscaling filters"
   ]
  },
  {
   "cell_type": "code",
   "execution_count": 10,
   "metadata": {
    "_uuid": "30e5b162011bd0ef7e52fc43b1c8995c745f1f0e",
    "collapsed": true
   },
   "outputs": [],
   "source": [
    "def down(input_layer, filters, pool=True):\n",
    "    conv1 = Conv2D(filters, (3, 3), padding='same', activation='relu')(input_layer)\n",
    "    residual = Conv2D(filters, (3, 3), padding='same', activation='relu')(conv1)\n",
    "    if pool:\n",
    "        max_pool = MaxPool2D()(residual)\n",
    "        return max_pool, residual\n",
    "    else:\n",
    "        return residual\n",
    "\n",
    "def up(input_layer, residual, filters):\n",
    "    filters=int(filters)\n",
    "    upsample = UpSampling2D()(input_layer)\n",
    "    upconv = Conv2D(filters, kernel_size=(2, 2), padding=\"same\")(upsample)\n",
    "    concat = Concatenate(axis=3)([residual, upconv])\n",
    "    conv1 = Conv2D(filters, (3, 3), padding='same', activation='relu')(concat)\n",
    "    conv2 = Conv2D(filters, (3, 3), padding='same', activation='relu')(conv1)\n",
    "    return conv2"
   ]
  },
  {
   "cell_type": "markdown",
   "metadata": {},
   "source": [
    "###### Define custom U-net"
   ]
  },
  {
   "cell_type": "code",
   "execution_count": 11,
   "metadata": {
    "_uuid": "9648de8657b1815725b20f6c6873a71ad61b4076",
    "collapsed": false
   },
   "outputs": [
    {
     "name": "stdout",
     "output_type": "stream",
     "text": [
      "____________________________________________________________________________________________________\n",
      "Layer (type)                     Output Shape          Param #     Connected to                     \n",
      "====================================================================================================\n",
      "input_1 (InputLayer)             (None, 384, 1280, 3)  0                                            \n",
      "____________________________________________________________________________________________________\n",
      "conv2d_1 (Conv2D)                (None, 384, 1280, 64) 1792        input_1[0][0]                    \n",
      "____________________________________________________________________________________________________\n",
      "conv2d_2 (Conv2D)                (None, 384, 1280, 64) 36928       conv2d_1[0][0]                   \n",
      "____________________________________________________________________________________________________\n",
      "max_pooling2d_1 (MaxPooling2D)   (None, 192, 640, 64)  0           conv2d_2[0][0]                   \n",
      "____________________________________________________________________________________________________\n",
      "conv2d_3 (Conv2D)                (None, 192, 640, 128) 73856       max_pooling2d_1[0][0]            \n",
      "____________________________________________________________________________________________________\n",
      "conv2d_4 (Conv2D)                (None, 192, 640, 128) 147584      conv2d_3[0][0]                   \n",
      "____________________________________________________________________________________________________\n",
      "max_pooling2d_2 (MaxPooling2D)   (None, 96, 320, 128)  0           conv2d_4[0][0]                   \n",
      "____________________________________________________________________________________________________\n",
      "conv2d_5 (Conv2D)                (None, 96, 320, 256)  295168      max_pooling2d_2[0][0]            \n",
      "____________________________________________________________________________________________________\n",
      "conv2d_6 (Conv2D)                (None, 96, 320, 256)  590080      conv2d_5[0][0]                   \n",
      "____________________________________________________________________________________________________\n",
      "max_pooling2d_3 (MaxPooling2D)   (None, 48, 160, 256)  0           conv2d_6[0][0]                   \n",
      "____________________________________________________________________________________________________\n",
      "conv2d_7 (Conv2D)                (None, 48, 160, 288)  663840      max_pooling2d_3[0][0]            \n",
      "____________________________________________________________________________________________________\n",
      "conv2d_8 (Conv2D)                (None, 48, 160, 288)  746784      conv2d_7[0][0]                   \n",
      "____________________________________________________________________________________________________\n",
      "max_pooling2d_4 (MaxPooling2D)   (None, 24, 80, 288)   0           conv2d_8[0][0]                   \n",
      "____________________________________________________________________________________________________\n",
      "conv2d_9 (Conv2D)                (None, 24, 80, 288)   746784      max_pooling2d_4[0][0]            \n",
      "____________________________________________________________________________________________________\n",
      "conv2d_10 (Conv2D)               (None, 24, 80, 288)   746784      conv2d_9[0][0]                   \n",
      "____________________________________________________________________________________________________\n",
      "max_pooling2d_5 (MaxPooling2D)   (None, 12, 40, 288)   0           conv2d_10[0][0]                  \n",
      "____________________________________________________________________________________________________\n",
      "conv2d_11 (Conv2D)               (None, 12, 40, 288)   746784      max_pooling2d_5[0][0]            \n",
      "____________________________________________________________________________________________________\n",
      "conv2d_12 (Conv2D)               (None, 12, 40, 288)   746784      conv2d_11[0][0]                  \n",
      "____________________________________________________________________________________________________\n",
      "max_pooling2d_6 (MaxPooling2D)   (None, 6, 20, 288)    0           conv2d_12[0][0]                  \n",
      "____________________________________________________________________________________________________\n",
      "conv2d_13 (Conv2D)               (None, 6, 20, 288)    746784      max_pooling2d_6[0][0]            \n",
      "____________________________________________________________________________________________________\n",
      "conv2d_14 (Conv2D)               (None, 6, 20, 288)    746784      conv2d_13[0][0]                  \n",
      "____________________________________________________________________________________________________\n",
      "max_pooling2d_7 (MaxPooling2D)   (None, 3, 10, 288)    0           conv2d_14[0][0]                  \n",
      "____________________________________________________________________________________________________\n",
      "conv2d_15 (Conv2D)               (None, 3, 10, 288)    746784      max_pooling2d_7[0][0]            \n",
      "____________________________________________________________________________________________________\n",
      "conv2d_16 (Conv2D)               (None, 3, 10, 288)    746784      conv2d_15[0][0]                  \n",
      "____________________________________________________________________________________________________\n",
      "up_sampling2d_1 (UpSampling2D)   (None, 6, 20, 288)    0           conv2d_16[0][0]                  \n",
      "____________________________________________________________________________________________________\n",
      "conv2d_17 (Conv2D)               (None, 6, 20, 144)    166032      up_sampling2d_1[0][0]            \n",
      "____________________________________________________________________________________________________\n",
      "concatenate_1 (Concatenate)      (None, 6, 20, 432)    0           conv2d_14[0][0]                  \n",
      "                                                                   conv2d_17[0][0]                  \n",
      "____________________________________________________________________________________________________\n",
      "conv2d_18 (Conv2D)               (None, 6, 20, 144)    560016      concatenate_1[0][0]              \n",
      "____________________________________________________________________________________________________\n",
      "conv2d_19 (Conv2D)               (None, 6, 20, 144)    186768      conv2d_18[0][0]                  \n",
      "____________________________________________________________________________________________________\n",
      "up_sampling2d_2 (UpSampling2D)   (None, 12, 40, 144)   0           conv2d_19[0][0]                  \n",
      "____________________________________________________________________________________________________\n",
      "conv2d_20 (Conv2D)               (None, 12, 40, 144)   83088       up_sampling2d_2[0][0]            \n",
      "____________________________________________________________________________________________________\n",
      "concatenate_2 (Concatenate)      (None, 12, 40, 432)   0           conv2d_12[0][0]                  \n",
      "                                                                   conv2d_20[0][0]                  \n",
      "____________________________________________________________________________________________________\n",
      "conv2d_21 (Conv2D)               (None, 12, 40, 144)   560016      concatenate_2[0][0]              \n",
      "____________________________________________________________________________________________________\n",
      "conv2d_22 (Conv2D)               (None, 12, 40, 144)   186768      conv2d_21[0][0]                  \n",
      "____________________________________________________________________________________________________\n",
      "up_sampling2d_3 (UpSampling2D)   (None, 24, 80, 144)   0           conv2d_22[0][0]                  \n",
      "____________________________________________________________________________________________________\n",
      "conv2d_23 (Conv2D)               (None, 24, 80, 144)   83088       up_sampling2d_3[0][0]            \n",
      "____________________________________________________________________________________________________\n",
      "concatenate_3 (Concatenate)      (None, 24, 80, 432)   0           conv2d_10[0][0]                  \n",
      "                                                                   conv2d_23[0][0]                  \n",
      "____________________________________________________________________________________________________\n",
      "conv2d_24 (Conv2D)               (None, 24, 80, 144)   560016      concatenate_3[0][0]              \n",
      "____________________________________________________________________________________________________\n",
      "conv2d_25 (Conv2D)               (None, 24, 80, 144)   186768      conv2d_24[0][0]                  \n",
      "____________________________________________________________________________________________________\n",
      "up_sampling2d_4 (UpSampling2D)   (None, 48, 160, 144)  0           conv2d_25[0][0]                  \n",
      "____________________________________________________________________________________________________\n",
      "conv2d_26 (Conv2D)               (None, 48, 160, 144)  83088       up_sampling2d_4[0][0]            \n",
      "____________________________________________________________________________________________________\n",
      "concatenate_4 (Concatenate)      (None, 48, 160, 432)  0           conv2d_8[0][0]                   \n",
      "                                                                   conv2d_26[0][0]                  \n",
      "____________________________________________________________________________________________________\n",
      "conv2d_27 (Conv2D)               (None, 48, 160, 144)  560016      concatenate_4[0][0]              \n",
      "____________________________________________________________________________________________________\n",
      "conv2d_28 (Conv2D)               (None, 48, 160, 144)  186768      conv2d_27[0][0]                  \n",
      "____________________________________________________________________________________________________\n",
      "up_sampling2d_5 (UpSampling2D)   (None, 96, 320, 144)  0           conv2d_28[0][0]                  \n",
      "____________________________________________________________________________________________________\n",
      "conv2d_29 (Conv2D)               (None, 96, 320, 144)  83088       up_sampling2d_5[0][0]            \n",
      "____________________________________________________________________________________________________\n",
      "concatenate_5 (Concatenate)      (None, 96, 320, 400)  0           conv2d_6[0][0]                   \n",
      "                                                                   conv2d_29[0][0]                  \n",
      "____________________________________________________________________________________________________\n",
      "conv2d_30 (Conv2D)               (None, 96, 320, 144)  518544      concatenate_5[0][0]              \n",
      "____________________________________________________________________________________________________\n",
      "conv2d_31 (Conv2D)               (None, 96, 320, 144)  186768      conv2d_30[0][0]                  \n",
      "____________________________________________________________________________________________________\n",
      "up_sampling2d_6 (UpSampling2D)   (None, 192, 640, 144) 0           conv2d_31[0][0]                  \n",
      "____________________________________________________________________________________________________\n",
      "conv2d_32 (Conv2D)               (None, 192, 640, 72)  41544       up_sampling2d_6[0][0]            \n",
      "____________________________________________________________________________________________________\n",
      "concatenate_6 (Concatenate)      (None, 192, 640, 200) 0           conv2d_4[0][0]                   \n",
      "                                                                   conv2d_32[0][0]                  \n",
      "____________________________________________________________________________________________________\n",
      "conv2d_33 (Conv2D)               (None, 192, 640, 72)  129672      concatenate_6[0][0]              \n",
      "____________________________________________________________________________________________________\n",
      "conv2d_34 (Conv2D)               (None, 192, 640, 72)  46728       conv2d_33[0][0]                  \n",
      "____________________________________________________________________________________________________\n",
      "up_sampling2d_7 (UpSampling2D)   (None, 384, 1280, 72) 0           conv2d_34[0][0]                  \n",
      "____________________________________________________________________________________________________\n",
      "conv2d_35 (Conv2D)               (None, 384, 1280, 36) 10404       up_sampling2d_7[0][0]            \n",
      "____________________________________________________________________________________________________\n",
      "concatenate_7 (Concatenate)      (None, 384, 1280, 100 0           conv2d_2[0][0]                   \n",
      "                                                                   conv2d_35[0][0]                  \n",
      "____________________________________________________________________________________________________\n",
      "conv2d_36 (Conv2D)               (None, 384, 1280, 36) 32436       concatenate_7[0][0]              \n",
      "____________________________________________________________________________________________________\n",
      "conv2d_37 (Conv2D)               (None, 384, 1280, 36) 11700       conv2d_36[0][0]                  \n",
      "____________________________________________________________________________________________________\n",
      "conv2d_38 (Conv2D)               (None, 384, 1280, 1)  37          conv2d_37[0][0]                  \n",
      "====================================================================================================\n",
      "Total params: 12,993,657\n",
      "Trainable params: 12,993,657\n",
      "Non-trainable params: 0\n",
      "____________________________________________________________________________________________________\n"
     ]
    }
   ],
   "source": [
    "filters = 64\n",
    "input_layer = Input(shape = [height, width, 3])\n",
    "layers = [input_layer]\n",
    "residuals = []\n",
    "\n",
    "# Down 1, 1280, 384\n",
    "d1, res1 = down(input_layer, filters)\n",
    "residuals.append(res1)\n",
    "\n",
    "# Down 2, 640, 192\n",
    "filters *= 2\n",
    "d2, res2 = down(d1, filters)\n",
    "residuals.append(res2)\n",
    "\n",
    "# Down 3, 320, 96\n",
    "filters *= 2\n",
    "d3, res3 = down(d2, filters)\n",
    "residuals.append(res3)\n",
    "\n",
    "# Down 4, 160, 48\n",
    "filters += 32\n",
    "d4, res4 = down(d3, filters)\n",
    "residuals.append(res4)\n",
    "\n",
    "# Down 5, 80, 24\n",
    "d5, res5 = down(d4, filters)\n",
    "residuals.append(res5)\n",
    "\n",
    "# Down 6, 40, 12\n",
    "d6, res6 = down(d5, filters)\n",
    "residuals.append(res6)\n",
    "\n",
    "# Down 7, 20, 6\n",
    "d7, res7 = down(d6, filters)\n",
    "residuals.append(res7)\n",
    "\n",
    "# Down 8, 10, 3\n",
    "d8 = down(d7, filters, pool=False)\n",
    "\n",
    "# Up 1\n",
    "up1 = up(d8, residual=residuals[-1], filters=filters/2)\n",
    "\n",
    "# Up 2 \n",
    "up2 = up(up1, residual=residuals[-2], filters=filters/2)\n",
    "\n",
    "# Up 3 \n",
    "up3 = up(up2, residual=residuals[-3], filters=filters/2)\n",
    "\n",
    "# Up 4 \n",
    "up4 = up(up3, residual=residuals[-4], filters=filters/2)\n",
    "\n",
    "# Up 5 \n",
    "up5 = up(up4, residual=residuals[-5], filters=filters/2)\n",
    "filters /= 2\n",
    "\n",
    "# Up 6 \n",
    "up6 = up(up5, residual=residuals[-6], filters=filters/2)\n",
    "filters /= 2\n",
    "\n",
    "# Up 7 \n",
    "up7 = up(up6, residual=residuals[-7], filters=filters/2)\n",
    "filters /= 2\n",
    "\n",
    "out = Conv2D(filters=1, kernel_size=(1, 1), activation=\"sigmoid\")(up7)\n",
    "\n",
    "model = Model(input_layer, out)\n",
    "\n",
    "model.summary()"
   ]
  },
  {
   "cell_type": "markdown",
   "metadata": {},
   "source": [
    "###### Define dice_coefficient"
   ]
  },
  {
   "cell_type": "code",
   "execution_count": 12,
   "metadata": {
    "_uuid": "f0c6b27ca90005cf045f4b4928d616a8ba013855",
    "collapsed": true
   },
   "outputs": [],
   "source": [
    "def dice_coef(y_true, y_pred):\n",
    "    smooth = 1e-5\n",
    "    \n",
    "    y_true = tf.round(tf.reshape(y_true, [-1]))\n",
    "    y_pred = tf.round(tf.reshape(y_pred, [-1]))\n",
    "    \n",
    "    isct = tf.reduce_sum(y_true * y_pred)\n",
    "    \n",
    "    return 2 * isct / (tf.reduce_sum(y_true) + tf.reduce_sum(y_pred))"
   ]
  },
  {
   "cell_type": "markdown",
   "metadata": {},
   "source": [
    "###### Training"
   ]
  },
  {
   "cell_type": "code",
   "execution_count": 13,
   "metadata": {
    "collapsed": true
   },
   "outputs": [],
   "source": [
    "kfold_weights_path = 'weights.h5'\n",
    "\n",
    "callbacks = [EarlyStopping(monitor='val_loss', patience=5, verbose=0),\n",
    "ModelCheckpoint(kfold_weights_path, monitor='val_loss', save_best_only=True, verbose=0)]"
   ]
  },
  {
   "cell_type": "code",
   "execution_count": 14,
   "metadata": {
    "_uuid": "f320fdc6d0049beed438a896e94b133fa845572a",
    "collapsed": false,
    "scrolled": true
   },
   "outputs": [
    {
     "name": "stdout",
     "output_type": "stream",
     "text": [
      "Epoch 1/1\n",
      "116/116 [==============================] - 68s - loss: 0.3147 - dice_coef: 0.2440 - val_loss: 0.3383 - val_dice_coef: 0.7027\n"
     ]
    },
    {
     "data": {
      "text/plain": [
       "<keras.callbacks.History at 0x7eff350d1438>"
      ]
     },
     "execution_count": 14,
     "metadata": {},
     "output_type": "execute_result"
    }
   ],
   "source": [
    "model.compile(optimizer=Adam(5e-4), loss='binary_crossentropy', metrics=[dice_coef])\n",
    "epochs=1\n",
    "model.fit_generator(batch_generator(train_images, batch_size), steps_per_epoch, epochs=epochs, verbose=1,\n",
    "                        callbacks=callbacks, validation_data=batch_generator(valid_images, batch_size),\n",
    "                        validation_steps=validation_steps)"
   ]
  },
  {
   "cell_type": "code",
   "execution_count": 15,
   "metadata": {
    "collapsed": false
   },
   "outputs": [
    {
     "name": "stdout",
     "output_type": "stream",
     "text": [
      "Epoch 1/1\n",
      "116/116 [==============================] - 58s - loss: 0.1136 - dice_coef: 0.8821 - val_loss: 0.2390 - val_dice_coef: 0.7267\n"
     ]
    },
    {
     "data": {
      "text/plain": [
       "<keras.callbacks.History at 0x7eff35ac2780>"
      ]
     },
     "execution_count": 15,
     "metadata": {},
     "output_type": "execute_result"
    }
   ],
   "source": [
    "model.compile(optimizer=Adam(2e-4), loss='binary_crossentropy', metrics=[dice_coef])\n",
    "epochs=1\n",
    "model.fit_generator(batch_generator(train_images, batch_size), steps_per_epoch, epochs=epochs, verbose=1,\n",
    "                        callbacks=callbacks, validation_data=batch_generator(valid_images, batch_size),\n",
    "                        validation_steps=validation_steps)"
   ]
  },
  {
   "cell_type": "code",
   "execution_count": 16,
   "metadata": {
    "collapsed": false
   },
   "outputs": [
    {
     "name": "stdout",
     "output_type": "stream",
     "text": [
      "Epoch 1/10\n",
      "116/116 [==============================] - 58s - loss: 0.0987 - dice_coef: 0.8928 - val_loss: 0.1158 - val_dice_coef: 0.8289\n",
      "Epoch 2/10\n",
      "116/116 [==============================] - 56s - loss: 0.0864 - dice_coef: 0.9019 - val_loss: 0.1226 - val_dice_coef: 0.8089\n",
      "Epoch 3/10\n",
      "116/116 [==============================] - 56s - loss: 0.0816 - dice_coef: 0.9095 - val_loss: 0.1327 - val_dice_coef: 0.7928\n",
      "Epoch 4/10\n",
      "116/116 [==============================] - 56s - loss: 0.0797 - dice_coef: 0.9113 - val_loss: 0.1263 - val_dice_coef: 0.8183\n",
      "Epoch 5/10\n",
      "116/116 [==============================] - 56s - loss: 0.0606 - dice_coef: 0.9350 - val_loss: 0.0928 - val_dice_coef: 0.8495\n",
      "Epoch 6/10\n",
      "116/116 [==============================] - 55s - loss: 0.0772 - dice_coef: 0.9186 - val_loss: 0.0979 - val_dice_coef: 0.8437\n",
      "Epoch 7/10\n",
      "116/116 [==============================] - 55s - loss: 0.0681 - dice_coef: 0.9349 - val_loss: 0.1074 - val_dice_coef: 0.8764\n",
      "Epoch 8/10\n",
      "116/116 [==============================] - 56s - loss: 0.0540 - dice_coef: 0.9431 - val_loss: 0.0885 - val_dice_coef: 0.8829\n",
      "Epoch 9/10\n",
      "116/116 [==============================] - 55s - loss: 0.0541 - dice_coef: 0.9438 - val_loss: 0.1111 - val_dice_coef: 0.8458\n",
      "Epoch 10/10\n",
      "116/116 [==============================] - 55s - loss: 0.0422 - dice_coef: 0.9553 - val_loss: 0.1367 - val_dice_coef: 0.8520\n"
     ]
    },
    {
     "data": {
      "text/plain": [
       "<keras.callbacks.History at 0x7eff31767c50>"
      ]
     },
     "execution_count": 16,
     "metadata": {},
     "output_type": "execute_result"
    }
   ],
   "source": [
    "model.compile(optimizer=Adam(1e-4), loss='binary_crossentropy', metrics=[dice_coef])\n",
    "epochs=10\n",
    "model.fit_generator(batch_generator(train_images, batch_size), steps_per_epoch, epochs=epochs, verbose=1,\n",
    "                        callbacks=callbacks, validation_data=batch_generator(valid_images, batch_size),\n",
    "                        validation_steps=validation_steps)"
   ]
  },
  {
   "cell_type": "code",
   "execution_count": 17,
   "metadata": {
    "collapsed": false
   },
   "outputs": [
    {
     "name": "stdout",
     "output_type": "stream",
     "text": [
      "Epoch 1/5\n",
      "116/116 [==============================] - 58s - loss: 0.0389 - dice_coef: 0.9591 - val_loss: 0.0837 - val_dice_coef: 0.8864\n",
      "Epoch 2/5\n",
      "116/116 [==============================] - 55s - loss: 0.0350 - dice_coef: 0.9623 - val_loss: 0.0891 - val_dice_coef: 0.8930\n",
      "Epoch 3/5\n",
      "116/116 [==============================] - 55s - loss: 0.0341 - dice_coef: 0.9627 - val_loss: 0.0697 - val_dice_coef: 0.9103\n",
      "Epoch 4/5\n",
      "116/116 [==============================] - 55s - loss: 0.0291 - dice_coef: 0.9689 - val_loss: 0.0993 - val_dice_coef: 0.8888\n",
      "Epoch 5/5\n",
      "116/116 [==============================] - 55s - loss: 0.0324 - dice_coef: 0.9647 - val_loss: 0.0833 - val_dice_coef: 0.9066\n"
     ]
    },
    {
     "data": {
      "text/plain": [
       "<keras.callbacks.History at 0x7eff285e9278>"
      ]
     },
     "execution_count": 17,
     "metadata": {},
     "output_type": "execute_result"
    }
   ],
   "source": [
    "model.compile(optimizer=Adam(5e-5), loss='binary_crossentropy', metrics=[dice_coef])\n",
    "epochs=5\n",
    "model.fit_generator(batch_generator(train_images, batch_size), steps_per_epoch, epochs=epochs, verbose=1,\n",
    "                        callbacks=callbacks, validation_data=batch_generator(valid_images, batch_size),\n",
    "                        validation_steps=validation_steps)"
   ]
  },
  {
   "cell_type": "code",
   "execution_count": 18,
   "metadata": {
    "collapsed": false
   },
   "outputs": [
    {
     "name": "stdout",
     "output_type": "stream",
     "text": [
      "Epoch 1/5\n",
      "116/116 [==============================] - 58s - loss: 0.0260 - dice_coef: 0.9704 - val_loss: 0.0768 - val_dice_coef: 0.9145\n",
      "Epoch 2/5\n",
      "116/116 [==============================] - 55s - loss: 0.0239 - dice_coef: 0.9735 - val_loss: 0.0846 - val_dice_coef: 0.9113\n",
      "Epoch 3/5\n",
      "116/116 [==============================] - 55s - loss: 0.0246 - dice_coef: 0.9727 - val_loss: 0.0870 - val_dice_coef: 0.9066\n",
      "Epoch 4/5\n",
      "116/116 [==============================] - 55s - loss: 0.0232 - dice_coef: 0.9737 - val_loss: 0.0963 - val_dice_coef: 0.9061\n",
      "Epoch 5/5\n",
      "116/116 [==============================] - 55s - loss: 0.0221 - dice_coef: 0.9749 - val_loss: 0.0978 - val_dice_coef: 0.9176\n"
     ]
    },
    {
     "data": {
      "text/plain": [
       "<keras.callbacks.History at 0x7efec80f8f98>"
      ]
     },
     "execution_count": 18,
     "metadata": {},
     "output_type": "execute_result"
    }
   ],
   "source": [
    "model.compile(optimizer=Adam(1e-5), loss='binary_crossentropy', metrics=[dice_coef])\n",
    "epochs=5\n",
    "model.fit_generator(batch_generator(train_images, batch_size), steps_per_epoch, epochs=epochs, verbose=1,\n",
    "                        callbacks=callbacks, validation_data=batch_generator(valid_images, batch_size),\n",
    "                        validation_steps=validation_steps)"
   ]
  },
  {
   "cell_type": "code",
   "execution_count": 19,
   "metadata": {
    "collapsed": false
   },
   "outputs": [
    {
     "name": "stdout",
     "output_type": "stream",
     "text": [
      "Epoch 1/5\n",
      "116/116 [==============================] - 57s - loss: 0.0217 - dice_coef: 0.9754 - val_loss: 0.0924 - val_dice_coef: 0.9077\n",
      "Epoch 2/5\n",
      "116/116 [==============================] - 54s - loss: 0.0221 - dice_coef: 0.9754 - val_loss: 0.1010 - val_dice_coef: 0.9129\n",
      "Epoch 3/5\n",
      "116/116 [==============================] - 55s - loss: 0.0221 - dice_coef: 0.9749 - val_loss: 0.1148 - val_dice_coef: 0.9093\n",
      "Epoch 4/5\n",
      "116/116 [==============================] - 55s - loss: 0.0215 - dice_coef: 0.9760 - val_loss: 0.0933 - val_dice_coef: 0.9182\n",
      "Epoch 5/5\n",
      "116/116 [==============================] - 54s - loss: 0.0216 - dice_coef: 0.9750 - val_loss: 0.1004 - val_dice_coef: 0.9124\n"
     ]
    },
    {
     "data": {
      "text/plain": [
       "<keras.callbacks.History at 0x7efec80f5c18>"
      ]
     },
     "execution_count": 19,
     "metadata": {},
     "output_type": "execute_result"
    }
   ],
   "source": [
    "model.compile(optimizer=Adam(5e-6), loss='binary_crossentropy', metrics=[dice_coef])\n",
    "epochs=5\n",
    "model.fit_generator(batch_generator(train_images, batch_size), steps_per_epoch, epochs=epochs, verbose=1,\n",
    "                        callbacks=callbacks, validation_data=batch_generator(valid_images, batch_size),\n",
    "                        validation_steps=validation_steps)"
   ]
  },
  {
   "cell_type": "code",
   "execution_count": 20,
   "metadata": {
    "collapsed": false
   },
   "outputs": [
    {
     "name": "stdout",
     "output_type": "stream",
     "text": [
      "Epoch 1/10\n",
      "116/116 [==============================] - 57s - loss: 0.0215 - dice_coef: 0.9760 - val_loss: 0.1188 - val_dice_coef: 0.9036\n",
      "Epoch 2/10\n",
      "116/116 [==============================] - 54s - loss: 0.0209 - dice_coef: 0.9764 - val_loss: 0.1056 - val_dice_coef: 0.9153\n",
      "Epoch 3/10\n",
      "116/116 [==============================] - 54s - loss: 0.0199 - dice_coef: 0.9764 - val_loss: 0.1168 - val_dice_coef: 0.9036\n",
      "Epoch 4/10\n",
      "116/116 [==============================] - 54s - loss: 0.0197 - dice_coef: 0.9773 - val_loss: 0.0808 - val_dice_coef: 0.9240\n",
      "Epoch 5/10\n",
      "116/116 [==============================] - 55s - loss: 0.0200 - dice_coef: 0.9770 - val_loss: 0.1328 - val_dice_coef: 0.9084\n",
      "Epoch 6/10\n",
      "116/116 [==============================] - 54s - loss: 0.0193 - dice_coef: 0.9779 - val_loss: 0.1017 - val_dice_coef: 0.9133\n",
      "Epoch 7/10\n",
      "116/116 [==============================] - 55s - loss: 0.0187 - dice_coef: 0.9790 - val_loss: 0.1199 - val_dice_coef: 0.9101\n",
      "Epoch 8/10\n",
      "116/116 [==============================] - 54s - loss: 0.0198 - dice_coef: 0.9773 - val_loss: 0.1534 - val_dice_coef: 0.8988\n",
      "Epoch 9/10\n",
      "116/116 [==============================] - 55s - loss: 0.0182 - dice_coef: 0.9791 - val_loss: 0.1324 - val_dice_coef: 0.9095\n",
      "Epoch 10/10\n",
      "116/116 [==============================] - 54s - loss: 0.0193 - dice_coef: 0.9781 - val_loss: 0.1187 - val_dice_coef: 0.9178\n"
     ]
    },
    {
     "data": {
      "text/plain": [
       "<keras.callbacks.History at 0x7efe6441db00>"
      ]
     },
     "execution_count": 20,
     "metadata": {},
     "output_type": "execute_result"
    }
   ],
   "source": [
    "model.compile(optimizer=Adam(5e-6), loss='binary_crossentropy', metrics=[dice_coef])\n",
    "epochs=10\n",
    "model.fit_generator(batch_generator(train_images, batch_size), steps_per_epoch, epochs=epochs, verbose=1,\n",
    "                        callbacks=callbacks, validation_data=batch_generator(valid_images, batch_size),\n",
    "                        validation_steps=validation_steps)"
   ]
  },
  {
   "cell_type": "code",
   "execution_count": 21,
   "metadata": {
    "collapsed": true
   },
   "outputs": [],
   "source": [
    "model.save_weights('weights.h5')"
   ]
  },
  {
   "cell_type": "markdown",
   "metadata": {
    "collapsed": true
   },
   "source": [
    "###### Write just the predicted mask (road)"
   ]
  },
  {
   "cell_type": "code",
   "execution_count": 22,
   "metadata": {
    "collapsed": false
   },
   "outputs": [],
   "source": [
    "def write_to_pngfiles(batch_labels, images, istart, iend):\n",
    "\n",
    "    for i in range(istart,iend):\n",
    "        img_array = batch_labels[i-istart,:,:,0]*255\n",
    "        \n",
    "        img = Image.fromarray((img_array).astype(np.uint8))\n",
    "        img_path = test_predict_dir + images[i][:-4] + '.png'\n",
    "        img.save(img_path)\n",
    "        return "
   ]
  },
  {
   "cell_type": "markdown",
   "metadata": {},
   "source": [
    "###### Write the predicted mask (road) superimposed on the original image"
   ]
  },
  {
   "cell_type": "code",
   "execution_count": 23,
   "metadata": {
    "collapsed": true
   },
   "outputs": [],
   "source": [
    "def write_to_jpgfiles(batch_features, batch_labels, images, istart, iend):\n",
    "\n",
    "    for i in range(istart,iend):\n",
    "        img_array = batch_features[i-istart,:,:,:]\n",
    "        img_array[:,:,0] = img_array[:,:,0] + batch_labels[i-istart,:,:,0]\n",
    "        img_array = img_array*255\n",
    "        \n",
    "        img_path = test_predict_dir + images[i][:-4] + '.jpg'\n",
    "        imsave(img_path, img_array)\n",
    "        return "
   ]
  },
  {
   "cell_type": "code",
   "execution_count": 24,
   "metadata": {
    "collapsed": true
   },
   "outputs": [],
   "source": [
    "def test_prediction(model, images, batch_size=1):\n",
    "    \n",
    "    count = 0\n",
    "    total_images = images.shape[0]\n",
    "    total_steps = int(total_images/batch_size)\n",
    "    print(total_images, batch_size, total_steps)\n",
    "    \n",
    "    batch_features = np.zeros((batch_size, height, width,3), dtype='float32')\n",
    "    batch_labels = np.zeros((batch_size, height, width, 1), np.float32)\n",
    "    \n",
    "    for steps in range(total_steps):\n",
    "        ishift = steps*batch_size\n",
    "        for i in range(batch_size):\n",
    "            img_path = test_dir + images[count]\n",
    "                    \n",
    "            original_img = load_img(img_path)\n",
    "            resized_img = imresize(original_img, [height, width, 3])\n",
    "            img_array = img_to_array(resized_img)/255.            \n",
    "            batch_features[i,:,:,:] = img_array\n",
    "            count = count + 1        \n",
    "            \n",
    "        batch_labels  = model.predict(batch_features, batch_size = batch_size, verbose=0)\n",
    "        write_to_pngfiles(batch_labels, images, ishift, ishift+batch_size)\n",
    "        write_to_jpgfiles(batch_features, batch_labels, images, ishift, ishift+batch_size)\n",
    "\n",
    "    if (count < total_images):\n",
    "        istart = count\n",
    "        iend = total_images\n",
    "\n",
    "        for i in range(istart-count, iend-count):\n",
    "            \n",
    "            img_path = test_dir + images[count]\n",
    "            \n",
    "            original_img = load_img(img_path)\n",
    "            resized_img = resize(original_img, [height_orig, width_orig, 3])\n",
    "            img_array = img_to_array(resized_img)/255.   \n",
    "            batch_features[i,:,:,:] = img_array\n",
    "            count = count + 1\n",
    "                       \n",
    "        batch_labels  = model.predict(batch_features, batch_size = batch_size, verbose=0)            \n",
    "        write_to_pngfiles(batch_labels, images, istart, iend)\n",
    "        write_to_jpgfiles(batch_features, batch_labels, images, istart, iend)\n",
    "                \n",
    "    return\n"
   ]
  },
  {
   "cell_type": "code",
   "execution_count": 25,
   "metadata": {
    "collapsed": false
   },
   "outputs": [
    {
     "name": "stdout",
     "output_type": "stream",
     "text": [
      "290 1 290\n"
     ]
    }
   ],
   "source": [
    "test_prediction(model, test_images, batch_size=1)"
   ]
  },
  {
   "cell_type": "code",
   "execution_count": null,
   "metadata": {
    "collapsed": false
   },
   "outputs": [],
   "source": []
  }
 ],
 "metadata": {
  "anaconda-cloud": {},
  "kernelspec": {
   "display_name": "Python [conda env:py36]",
   "language": "python",
   "name": "conda-env-py36-py"
  },
  "language_info": {
   "codemirror_mode": {
    "name": "ipython",
    "version": 3
   },
   "file_extension": ".py",
   "mimetype": "text/x-python",
   "name": "python",
   "nbconvert_exporter": "python",
   "pygments_lexer": "ipython3",
   "version": "3.6.1"
  }
 },
 "nbformat": 4,
 "nbformat_minor": 1
}
